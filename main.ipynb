{
 "cells": [
  {
   "cell_type": "code",
   "execution_count": null,
   "id": "5060a3f5",
   "metadata": {},
   "outputs": [],
   "source": [
    "%run -n main.py"
   ]
  },
  {
   "cell_type": "code",
   "execution_count": null,
   "id": "d1f1cb89",
   "metadata": {},
   "outputs": [],
   "source": [
    "# lines = read_lines('.secret')\n",
    "# env = dict(parse_dotenv(lines))\n",
    "# openai.api_key = env['OPENAI_TOKEN']"
   ]
  },
  {
   "cell_type": "markdown",
   "id": "91801c88",
   "metadata": {},
   "source": [
    "# tasks"
   ]
  },
  {
   "cell_type": "code",
   "execution_count": null,
   "id": "de9e413f",
   "metadata": {},
   "outputs": [],
   "source": [
    "# table = pd.read_excel('tasks/user_oriented_annot.xlsx')\n",
    "# table = table[~table.done.isnull()]\n",
    "# table = table.where(pd.notnull(table), None)\n",
    "\n",
    "# view = table[['id', 'orig_instruction', 'orig_input']]\n",
    "# view = view.rename(columns={\n",
    "#     'orig_instruction': 'instruction',\n",
    "#     'orig_input': 'input'\n",
    "# })\n",
    "# items = view.to_dict(orient='records')\n",
    "# lines = format_jsonl(items)\n",
    "# write_lines('tasks/user_oriented_en.jsonl', lines)\n",
    "\n",
    "# view = table[['id', 'instruction', 'input']]\n",
    "# items = view.to_dict(orient='records')\n",
    "# lines = format_jsonl(items)\n",
    "# write_lines('tasks/user_oriented_ru.jsonl', lines)"
   ]
  },
  {
   "cell_type": "code",
   "execution_count": null,
   "id": "4da2a44e",
   "metadata": {},
   "outputs": [],
   "source": [
    "# table = pd.read_excel('tasks/vicuna_question_annot.xlsx')\n",
    "\n",
    "# view = table[['id', 'category', 'instruction']]\n",
    "# items = view.to_dict(orient='records')\n",
    "# lines = format_jsonl(items)\n",
    "# write_lines('tasks/vicuna_question_ru.jsonl', lines)\n",
    "\n",
    "# view = table[['id', 'category', 'orig_instruction']]\n",
    "# view = view.rename(columns={'orig_instruction': 'instruction'})\n",
    "# items = view.to_dict(orient='records')\n",
    "# lines = format_jsonl(items)\n",
    "# write_lines('tasks/vicuna_question_en.jsonl', lines)"
   ]
  },
  {
   "cell_type": "markdown",
   "id": "6277a70a",
   "metadata": {},
   "source": [
    "# models"
   ]
  },
  {
   "cell_type": "markdown",
   "id": "75304a05",
   "metadata": {},
   "source": [
    "## gusev_ru_alpaca_7b_lora"
   ]
  },
  {
   "cell_type": "code",
   "execution_count": null,
   "id": "822527ef",
   "metadata": {
    "scrolled": false
   },
   "outputs": [],
   "source": [
    "model_name = 'IlyaGusev/llama_7b_ru_turbo_alpaca_lora'\n",
    "config = PeftConfig.from_pretrained(model_name)\n",
    "generation_config = GenerationConfig.from_pretrained(model_name)\n",
    "\n",
    "tokenizer = LlamaTokenizer.from_pretrained(model_name)\n",
    "tokenizer.padding_side = 'left'\n",
    "\n",
    "model = LlamaForCausalLM.from_pretrained(\n",
    "    config.base_model_name_or_path,\n",
    "    load_in_8bit=True,\n",
    "\n",
    "    # Overriding torch_dtype=None with `torch_dtype=torch.float16\n",
    "    torch_dtype=torch.float16,\n",
    "    \n",
    "    # A device map needs to be passed to run convert models into mixed-int8\n",
    "    device_map='auto'\n",
    ")\n",
    "model = PeftModel.from_pretrained(\n",
    "    model, model_name,\n",
    "    torch_dtype=torch.float16,\n",
    ").eval()"
   ]
  },
  {
   "cell_type": "markdown",
   "id": "558d3866",
   "metadata": {},
   "source": [
    "## gusev_ru_alpaca_16b_lora"
   ]
  },
  {
   "cell_type": "code",
   "execution_count": null,
   "id": "fd03fbdd",
   "metadata": {},
   "outputs": [],
   "source": [
    "model_name = 'IlyaGusev/llama_13b_ru_turbo_alpaca_lora'\n",
    "config = PeftConfig.from_pretrained(model_name)\n",
    "generation_config = GenerationConfig.from_pretrained(model_name)\n",
    "\n",
    "tokenizer = LlamaTokenizer.from_pretrained(model_name)\n",
    "tokenizer.padding_side = 'left'\n",
    "\n",
    "model = LlamaForCausalLM.from_pretrained(\n",
    "    config.base_model_name_or_path,\n",
    "    load_in_8bit=True,\n",
    "    torch_dtype=torch.float16,\n",
    "    device_map='auto'\n",
    ")\n",
    "model = PeftModel.from_pretrained(\n",
    "    model, model_name,\n",
    "    torch_dtype=torch.float16,\n",
    ").eval()"
   ]
  },
  {
   "cell_type": "markdown",
   "id": "316b693c",
   "metadata": {},
   "source": [
    "## gusev_saiga_7b_lora, 13b"
   ]
  },
  {
   "cell_type": "code",
   "execution_count": null,
   "id": "e42712c6",
   "metadata": {},
   "outputs": [],
   "source": [
    "model_name = 'IlyaGusev/saiga_13b_lora'\n",
    "config = PeftConfig.from_pretrained(model_name)\n",
    "generation_config = GenerationConfig.from_pretrained(model_name)\n",
    "generation_config.max_new_tokens = 512\n",
    "\n",
    "tokenizer = LlamaTokenizer.from_pretrained(model_name)\n",
    "tokenizer.padding_side = 'left'\n",
    "\n",
    "model = LlamaForCausalLM.from_pretrained(\n",
    "    config.base_model_name_or_path,\n",
    "    load_in_8bit=True,\n",
    "    torch_dtype=torch.float16,\n",
    "    device_map='auto'\n",
    ")\n",
    "model = PeftModel.from_pretrained(\n",
    "    model, model_name,\n",
    "    torch_dtype=torch.float16,\n",
    ").eval()"
   ]
  },
  {
   "cell_type": "markdown",
   "id": "5e6f7fcc",
   "metadata": {},
   "source": [
    "## gusev_ru_alpaca_7b_llamacpp"
   ]
  },
  {
   "cell_type": "code",
   "execution_count": null,
   "id": "4b0d9985",
   "metadata": {},
   "outputs": [],
   "source": [
    "home_dir = Path.home()\n",
    "main_path = home_dir / 'src/llama.cpp/main'\n",
    "model_path = home_dir / 'models/llama_7b_ru_turbo_alpaca_lora_llamacpp/7B/ggml-model-q4_0.bin'\n",
    "generation_args = [\n",
    "    '--top_k', '40',\n",
    "    '--top_p', '0.9',\n",
    "    '--repeat_penalty', '1.1',\n",
    "    '--ctx_size', '256',\n",
    "    '--n_predict', '512',\n",
    "    '--temp', '0.95'\n",
    "]"
   ]
  },
  {
   "cell_type": "markdown",
   "id": "f9cb88bb",
   "metadata": {},
   "source": [
    "## gusev_alpaca_7b_lora"
   ]
  },
  {
   "cell_type": "code",
   "execution_count": null,
   "id": "50098bb1",
   "metadata": {},
   "outputs": [],
   "source": [
    "model_name = 'IlyaGusev/alpaca_7b_lora_reproduce'\n",
    "\n",
    "config = PeftConfig.from_pretrained(model_name)\n",
    "config.base_model_name_or_path = 'decapoda-research/llama-7b-hf'\n",
    "\n",
    "tokenizer = LlamaTokenizer.from_pretrained(model_name)\n",
    "tokenizer.padding_side = 'left'\n",
    "\n",
    "model = LlamaForCausalLM.from_pretrained(\n",
    "    config.base_model_name_or_path,\n",
    "    load_in_8bit=True,\n",
    "    torch_dtype=torch.float16,\n",
    "    device_map='auto'\n",
    ")\n",
    "model = PeftModel.from_pretrained(\n",
    "    model, model_name,\n",
    "    torch_dtype=torch.float16,\n",
    ").eval()"
   ]
  },
  {
   "cell_type": "markdown",
   "id": "8716b5c1",
   "metadata": {},
   "source": [
    "## gusev_fred"
   ]
  },
  {
   "cell_type": "code",
   "execution_count": null,
   "id": "ed5b069a",
   "metadata": {},
   "outputs": [],
   "source": [
    "%run -n main.py\n",
    "model_name = 'IlyaGusev/fred_t5_ru_turbo_alpaca'\n",
    "tokenizer = AutoTokenizer.from_pretrained(model_name)\n",
    "\n",
    "generation_config = GenerationConfig.from_pretrained(model_name)\n",
    "generation_config.max_new_tokens = 512\n",
    "\n",
    "device = 'cuda:0'\n",
    "model = AutoModelForSeq2SeqLM.from_pretrained(model_name)\n",
    "model = model.to(device).eval()"
   ]
  },
  {
   "cell_type": "markdown",
   "id": "ab9b8dde",
   "metadata": {},
   "source": [
    "## chainyo_alpaca_7b_lora"
   ]
  },
  {
   "cell_type": "code",
   "execution_count": null,
   "id": "49bd4f0e",
   "metadata": {},
   "outputs": [],
   "source": [
    "model_name = 'chainyo/alpaca-lora-7b'\n",
    "tokenizer = LlamaTokenizer.from_pretrained(model_name)\n",
    "generation_config = GenerationConfig(\n",
    "    temperature=0.2,\n",
    "    top_p=0.75,\n",
    "    top_k=40,\n",
    "    num_beams=4,\n",
    "    max_new_tokens=128,\n",
    ")\n",
    "model = LlamaForCausalLM.from_pretrained(\n",
    "    model_name,\n",
    "    load_in_8bit=True,\n",
    "    torch_dtype=torch.float16,\n",
    "    device_map='auto',\n",
    ").eval()"
   ]
  },
  {
   "cell_type": "markdown",
   "id": "eb55b23b",
   "metadata": {},
   "source": [
    "## wortega_instruct_rugpt_large"
   ]
  },
  {
   "cell_type": "code",
   "execution_count": null,
   "id": "039def6e",
   "metadata": {},
   "outputs": [],
   "source": [
    "model_name = 'AlexWortega/instruct_rugptlarge'\n",
    "\n",
    "tokenizer = GPT2TokenizerFast.from_pretrained(model_name)\n",
    "special_tokens_dict = {\n",
    "    'additional_special_tokens': [\n",
    "        '<code>', '</code>',\n",
    "        '<instructionS>', '<instructionE>',\n",
    "        '<next>'\n",
    "    ]\n",
    "}\n",
    "tokenizer.add_special_tokens(special_tokens_dict)\n",
    "\n",
    "generation_config = GenerationConfig(\n",
    "    min_length=20,\n",
    "    max_new_tokens=512,\n",
    "    top_k=50,\n",
    "    top_p=0.7,\n",
    "    do_sample=True,  \n",
    "    early_stopping=True,\n",
    "    no_repeat_ngram_size=2,\n",
    "    eos_token_id=tokenizer.eos_token_id,\n",
    "    pad_token_id=tokenizer.eos_token_id,\n",
    "    use_cache=True,\n",
    "    repetition_penalty=1.5,  \n",
    "    length_penalty=1.2,  \n",
    "    num_beams=4,\n",
    ")\n",
    "\n",
    "device = 'cuda:0'\n",
    "model = GPT2LMHeadModel.from_pretrained(model_name).to(device).eval()\n",
    "model.resize_token_embeddings(len(tokenizer))"
   ]
  },
  {
   "cell_type": "markdown",
   "id": "32955b83",
   "metadata": {},
   "source": [
    "## oasst_pythia"
   ]
  },
  {
   "cell_type": "code",
   "execution_count": null,
   "id": "003919c2",
   "metadata": {},
   "outputs": [],
   "source": [
    "%run -n main.py\n",
    "model_name = 'OpenAssistant/oasst-sft-4-pythia-12b-epoch-3.5'\n",
    "\n",
    "tokenizer = AutoTokenizer.from_pretrained(model_name)\n",
    "\n",
    "generation_config = GenerationConfig.from_pretrained(model_name)\n",
    "generation_config.max_new_tokens = 512\n",
    "generation_config.repetition_penalty = 1.1\n",
    "generation_config.no_repeat_ngram_size = 8\n",
    "\n",
    "device = 'cuda:0'\n",
    "model = AutoModelForCausalLM.from_pretrained(model_name)\n",
    "model = model.to(device).eval()"
   ]
  },
  {
   "cell_type": "markdown",
   "id": "06652557",
   "metadata": {},
   "source": [
    "# evals"
   ]
  },
  {
   "cell_type": "code",
   "execution_count": null,
   "id": "4402cc05",
   "metadata": {},
   "outputs": [],
   "source": [
    "task_path = Path('tasks/vicuna_question_ru.jsonl')\n",
    "eval_path = Path('evals/vicuna_question_ru/oasst_pythia.jsonl')"
   ]
  },
  {
   "cell_type": "code",
   "execution_count": null,
   "id": "f44a735e",
   "metadata": {},
   "outputs": [],
   "source": [
    "%run -n main.py\n",
    "task_records = load_task(task_path)\n",
    "eval_records = [\n",
    "    EvalRecord(\n",
    "        id=_.id,\n",
    "        prompt=oasst_prompt(_),\n",
    "        output=None\n",
    "    )\n",
    "    for _ in task_records\n",
    "]\n",
    "random.sample(eval_records, 10)"
   ]
  },
  {
   "cell_type": "code",
   "execution_count": null,
   "id": "a89e7ed3",
   "metadata": {},
   "outputs": [],
   "source": [
    "dump_eval(eval_path, eval_records)"
   ]
  },
  {
   "cell_type": "code",
   "execution_count": null,
   "id": "6cbeeaac",
   "metadata": {},
   "outputs": [],
   "source": [
    "%run -n main.py\n",
    "eval_records = list(load_eval(eval_path))"
   ]
  },
  {
   "cell_type": "code",
   "execution_count": null,
   "id": "2c56a1f4",
   "metadata": {},
   "outputs": [],
   "source": [
    "total = len(eval_records)\n",
    "have_output = sum(\n",
    "    _.output is not None\n",
    "    for _ in eval_records\n",
    ")\n",
    "print(have_output, total)"
   ]
  },
  {
   "cell_type": "code",
   "execution_count": null,
   "id": "aba9f9f2",
   "metadata": {
    "scrolled": false
   },
   "outputs": [],
   "source": [
    "%run -n main.py\n",
    "model_batch_complete(eval_records, model, tokenizer, generation_config, batch_size=8)"
   ]
  },
  {
   "cell_type": "code",
   "execution_count": null,
   "id": "083fad12",
   "metadata": {
    "scrolled": false
   },
   "outputs": [],
   "source": [
    "for record in eval_records:\n",
    "    if record.output is None:\n",
    "        continue\n",
    "\n",
    "    prompt = re.sub(r'<\\|.+?\\|>', '', record.prompt)\n",
    "    output = record.output.removeprefix(prompt)\n",
    "#     # output = output[:output.find('<end>')]\n",
    "#     print(output)\n",
    "#     print('\\n\\n\\n')\n",
    "\n",
    "    record.output = output"
   ]
  },
  {
   "cell_type": "code",
   "execution_count": null,
   "id": "974f6eb8",
   "metadata": {},
   "outputs": [],
   "source": [
    "# %run -n main.py\n",
    "# await batch_llamacpp_complete(\n",
    "#     eval_records, main_path, model_path, generation_args,\n",
    "#     threads=8, pool_size=3\n",
    "# )"
   ]
  },
  {
   "cell_type": "code",
   "execution_count": null,
   "id": "20412d0a",
   "metadata": {},
   "outputs": [],
   "source": [
    "%run -n main.py\n",
    "dump_eval(eval_path, eval_records)"
   ]
  },
  {
   "cell_type": "markdown",
   "id": "2727d70c",
   "metadata": {},
   "source": [
    "# annot"
   ]
  },
  {
   "cell_type": "code",
   "execution_count": 16,
   "id": "7c06fe56",
   "metadata": {},
   "outputs": [],
   "source": [
    "%run -n main.py\n",
    "task = 'vicuna_question_ru'\n",
    "a_name = 'openai_davinci_003'\n",
    "b_name = 'gusev_saiga_13b_lora'\n",
    "\n",
    "lines = read_lines(f'evals/{task}/{a_name}.jsonl')\n",
    "a_items = list(parse_jsonl(lines))\n",
    "\n",
    "lines = read_lines(f'evals/{task}/{b_name}.jsonl')\n",
    "b_items = list(parse_jsonl(lines))"
   ]
  },
  {
   "cell_type": "code",
   "execution_count": 17,
   "id": "7906f586",
   "metadata": {},
   "outputs": [],
   "source": [
    "import pandas as pd\n",
    "\n",
    "id_a_items = {_['id']: _ for _ in a_items}\n",
    "id_b_items = {_['id']: _ for _ in b_items}\n",
    "items = []\n",
    "for id in sorted(id_a_items.keys() & id_b_items.keys()):\n",
    "    a_item = id_a_items[id]\n",
    "    b_item = id_b_items[id]\n",
    "\n",
    "    items.append({\n",
    "        'id': id,\n",
    "        'prompt': b_item['prompt'],\n",
    "        'a': a_item['output'],\n",
    "        'b': b_item['output'],\n",
    "        'label': None\n",
    "    })\n",
    "\n",
    "table = pd.DataFrame(items)\n",
    "table.to_excel(f'sbs/{task}/{a_name}_{b_name}.xlsx', index=False)"
   ]
  },
  {
   "cell_type": "markdown",
   "id": "2f6761ed",
   "metadata": {},
   "source": [
    "# report"
   ]
  },
  {
   "cell_type": "code",
   "execution_count": null,
   "id": "d1ddf8cf",
   "metadata": {},
   "outputs": [],
   "source": [
    "%matplotlib inline\n",
    "%config InlineBackend.figure_format='retina'"
   ]
  },
  {
   "cell_type": "code",
   "execution_count": null,
   "id": "fa492332",
   "metadata": {},
   "outputs": [],
   "source": [
    "+ gusev_fred\n",
    "+ oasst_pythia\n",
    "\n",
    "+ wortega_instruct_rugpt_large\n",
    "wortega_instruct_rugpt_large_v2\n",
    "\n",
    "+ gusev_ru_alpaca_7b_lora\n",
    "gusev_ru_alpaca_7b_lora_v2\n",
    "\n",
    ". gusev_ru_alpaca_13b_lora\n",
    "gusev_ru_alpaca_13b_lora_v2\n",
    "\n",
    "+ gusev_saiga_7b_lora\n",
    "gusev_saiga_7b_lora_v2\n",
    "\n",
    ". gusev_saiga_13b_lora\n",
    "gusev_saiga_30b_lora\n",
    "\n",
    "+ davinci-002\n",
    ". turbo"
   ]
  },
  {
   "cell_type": "code",
   "execution_count": 62,
   "id": "94a58e8e",
   "metadata": {},
   "outputs": [
    {
     "data": {
      "text/plain": [
       "<matplotlib.legend.Legend at 0x17a32f160>"
      ]
     },
     "execution_count": 62,
     "metadata": {},
     "output_type": "execute_result"
    },
    {
     "data": {
      "image/png": "[encoded data removed]",
      "text/plain": [
       "<Figure size 640x480 with 1 Axes>"
      ]
     },
     "metadata": {},
     "output_type": "display_data"
    }
   ],
   "source": [
    "from pathlib import Path\n",
    "\n",
    "names = [\n",
    "#     'openai_turbo',\n",
    "    'gusev_saiga_7b_lora',\n",
    "    'gusev_ru_alpaca_7b_lora',\n",
    "    'openai_davinci_002',\n",
    "    'wortega_instruct_rugpt_large',\n",
    "    'gusev_fred',\n",
    "    'oasst_pythia',\n",
    "]\n",
    "\n",
    "\n",
    "data = {}\n",
    "for name in names:\n",
    "    path = f'sbs/vicuna_question_ru/openai_davinci_003_{name}.xlsx'\n",
    "    table = pd.read_excel(path, dtype='str')\n",
    "    \n",
    "    label_counts = table.label.value_counts()\n",
    "    for label, count in label_counts.items():\n",
    "        data[name, label] = count\n",
    "        \n",
    "\n",
    "table = pd.Series(data)\n",
    "table = table.unstack()\n",
    "table = table.fillna(0)\n",
    "\n",
    "table = table.reindex(\n",
    "    index=reversed(names),\n",
    "    columns=[\n",
    "        '2', '1', '0', '-1', '-2', '?',\n",
    "    ]\n",
    "    \n",
    ")\n",
    "table = table.rename(\n",
    "    columns = {\n",
    "        '?': 'пустой ответ',\n",
    "        '-2': 'хуже',\n",
    "        '-1': 'похуже',\n",
    "        '0': 'примерно одинаково',\n",
    "        '1': 'получше',\n",
    "        '2': 'лучше'\n",
    "    }\n",
    ")\n",
    "\n",
    "\n",
    "table.plot(\n",
    "    title='SbS с openai_davinci_003 на ru_vicuna_question',\n",
    "    kind='barh',\n",
    "    stacked=True,\n",
    "    width=0.9,\n",
    "    alpha=0.7,\n",
    "    xlabel='# заданий'\n",
    ").legend(\n",
    "    loc='upper left',\n",
    "    bbox_to_anchor=(1.0, 1.0)\n",
    ")"
   ]
  },
  {
   "cell_type": "code",
   "execution_count": null,
   "id": "72dd24e2",
   "metadata": {},
   "outputs": [],
   "source": [
    "!open sbs"
   ]
  },
  {
   "cell_type": "code",
   "execution_count": null,
   "id": "be7ca193",
   "metadata": {},
   "outputs": [],
   "source": []
  }
 ],
 "metadata": {
  "kernelspec": {
   "display_name": "rulm-sbs",
   "language": "python",
   "name": "rulm-sbs"
  },
  "language_info": {
   "codemirror_mode": {
    "name": "ipython",
    "version": 3
   },
   "file_extension": ".py",
   "mimetype": "text/x-python",
   "name": "python",
   "nbconvert_exporter": "python",
   "pygments_lexer": "ipython3",
   "version": "3.10.8"
  }
 },
 "nbformat": 4,
 "nbformat_minor": 5
}
