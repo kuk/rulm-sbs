{
 "cells": [
  {
   "cell_type": "code",
   "execution_count": null,
   "id": "d1f1cb89",
   "metadata": {},
   "outputs": [],
   "source": [
    "%run -n main.py\n",
    "lines = read_lines('.secret')\n",
    "env = dict(parse_dotenv(lines))\n",
    "openai.api_key = env['OPENAI_TOKEN']"
   ]
  },
  {
   "cell_type": "markdown",
   "id": "91801c88",
   "metadata": {},
   "source": [
    "# tasks"
   ]
  },
  {
   "cell_type": "code",
   "execution_count": null,
   "id": "de9e413f",
   "metadata": {},
   "outputs": [],
   "source": [
    "# table = pd.read_excel('tasks/user_oriented_annot.xlsx')\n",
    "# table = table[~table.done.isnull()]\n",
    "# table = table.where(pd.notnull(table), None)\n",
    "\n",
    "# view = table[['id', 'orig_instruction', 'orig_input']]\n",
    "# view = view.rename(columns={\n",
    "#     'orig_instruction': 'instruction',\n",
    "#     'orig_input': 'input'\n",
    "# })\n",
    "# items = view.to_dict(orient='records')\n",
    "# lines = format_jsonl(items)\n",
    "# write_lines('tasks/user_oriented_en.jsonl', lines)\n",
    "\n",
    "# view = table[['id', 'instruction', 'input']]\n",
    "# items = view.to_dict(orient='records')\n",
    "# lines = format_jsonl(items)\n",
    "# write_lines('tasks/user_oriented_ru.jsonl', lines)"
   ]
  },
  {
   "cell_type": "code",
   "execution_count": null,
   "id": "4da2a44e",
   "metadata": {},
   "outputs": [],
   "source": [
    "# table = pd.read_excel('tasks/vicuna_question_annot.xlsx')\n",
    "\n",
    "# view = table[['id', 'category', 'instruction']]\n",
    "# items = view.to_dict(orient='records')\n",
    "# lines = format_jsonl(items)\n",
    "# write_lines('tasks/vicuna_question_ru.jsonl', lines)\n",
    "\n",
    "# view = table[['id', 'category', 'orig_instruction']]\n",
    "# view = view.rename(columns={'orig_instruction': 'instruction'})\n",
    "# items = view.to_dict(orient='records')\n",
    "# lines = format_jsonl(items)\n",
    "# write_lines('tasks/vicuna_question_en.jsonl', lines)"
   ]
  },
  {
   "cell_type": "markdown",
   "id": "6277a70a",
   "metadata": {},
   "source": [
    "# models"
   ]
  },
  {
   "cell_type": "markdown",
   "id": "75304a05",
   "metadata": {},
   "source": [
    "## gusev_7b_ru_alpaca_lora"
   ]
  },
  {
   "cell_type": "code",
   "execution_count": null,
   "id": "4199f949",
   "metadata": {},
   "outputs": [],
   "source": [
    "# LLM.int8() requires Turing or Ampere GPUs.\n",
    "# WARNING: No libcudart.so found! Install CUDA or the cudatoolkit package (anaconda)!\n",
    "import os\n",
    "os.environ['LD_LIBRARY_PATH'] = '/usr/local/cuda-11.7/targets/x86_64-linux/lib'\n",
    "\n",
    "import torch\n",
    "from peft import (\n",
    "    PeftModel,\n",
    "    PeftConfig\n",
    ")\n",
    "from transformers import (\n",
    "    AutoModelForCausalLM,\n",
    "    AutoTokenizer,\n",
    "    GenerationConfig\n",
    ")"
   ]
  },
  {
   "cell_type": "code",
   "execution_count": null,
   "id": "822527ef",
   "metadata": {
    "scrolled": false
   },
   "outputs": [],
   "source": [
    "model_name = 'IlyaGusev/llama_7b_ru_turbo_alpaca_lora'\n",
    "config = PeftConfig.from_pretrained(model_name)\n",
    "model = AutoModelForCausalLM.from_pretrained(\n",
    "    config.base_model_name_or_path,\n",
    "    load_in_8bit=True,\n",
    "\n",
    "    # Overriding torch_dtype=None with `torch_dtype=torch.float16\n",
    "    torch_dtype=torch.float16,\n",
    "    \n",
    "    # A device map needs to be passed to run convert models into mixed-int8\n",
    "    device_map='auto'\n",
    ")\n",
    "tokenizer = AutoTokenizer.from_pretrained(model_name)\n",
    "model = PeftModel.from_pretrained(model, model_name)"
   ]
  },
  {
   "cell_type": "markdown",
   "id": "558d3866",
   "metadata": {},
   "source": [
    "## gusev_13b_ru_alpaca_lora"
   ]
  },
  {
   "cell_type": "code",
   "execution_count": null,
   "id": "fd03fbdd",
   "metadata": {},
   "outputs": [],
   "source": [
    "model_name = 'IlyaGusev/llama_13b_ru_turbo_alpaca_lora'\n",
    "config = PeftConfig.from_pretrained(model_name)\n",
    "model = AutoModelForCausalLM.from_pretrained(\n",
    "    config.base_model_name_or_path,\n",
    "    load_in_8bit=True,\n",
    "    torch_dtype=torch.float16,\n",
    "    device_map='auto'\n",
    ")\n",
    "tokenizer = AutoTokenizer.from_pretrained(model_name)\n",
    "model = PeftModel.from_pretrained(model, model_name)"
   ]
  },
  {
   "cell_type": "markdown",
   "id": "f9cb88bb",
   "metadata": {},
   "source": [
    "## gusev_7b_en_alpaca_lora"
   ]
  },
  {
   "cell_type": "code",
   "execution_count": null,
   "id": "50098bb1",
   "metadata": {},
   "outputs": [],
   "source": [
    "model_name = 'IlyaGusev/alpaca_7b_lora_reproduce'\n",
    "\n",
    "config = PeftConfig.from_pretrained(model_name)\n",
    "config.base_model_name_or_path = 'decapoda-research/llama-7b-hf'\n",
    "\n",
    "model = AutoModelForCausalLM.from_pretrained(\n",
    "    config.base_model_name_or_path,\n",
    "    load_in_8bit=True,\n",
    "    torch_dtype=torch.float16,\n",
    "    device_map='auto'\n",
    ")\n",
    "tokenizer = AutoTokenizer.from_pretrained(model_name)\n",
    "model = PeftModel.from_pretrained(model, model_name)"
   ]
  },
  {
   "cell_type": "markdown",
   "id": "ab9b8dde",
   "metadata": {},
   "source": [
    "## chainyo_7b_alpaca_lora"
   ]
  },
  {
   "cell_type": "code",
   "execution_count": null,
   "id": "49bd4f0e",
   "metadata": {},
   "outputs": [],
   "source": [
    "model_name = 'chainyo/alpaca-lora-7b'\n",
    "tokenizer = AutoTokenizer.from_pretrained(model_name)\n",
    "model = AutoModelForCausalLM.from_pretrained(\n",
    "    model_name,\n",
    "    load_in_8bit=True,\n",
    "    torch_dtype=torch.float16,\n",
    "    device_map='auto',\n",
    ")"
   ]
  },
  {
   "cell_type": "markdown",
   "id": "eb55b23b",
   "metadata": {},
   "source": [
    "## wortega_instruct_rugpt_large"
   ]
  },
  {
   "cell_type": "code",
   "execution_count": null,
   "id": "039def6e",
   "metadata": {},
   "outputs": [],
   "source": [
    "from transformers import (\n",
    "    GPT2TokenizerFast,\n",
    "    GPT2LMHeadModel\n",
    ")\n",
    "\n",
    "model_name = 'AlexWortega/instruct_rugptlarge'\n",
    "\n",
    "tokenizer = GPT2TokenizerFast.from_pretrained(model_name)\n",
    "special_tokens_dict = {\n",
    "    'additional_special_tokens': [\n",
    "        '<code>', '</code>',\n",
    "        '<instructionS>', '<instructionE>',\n",
    "        '<next>'\n",
    "    ]\n",
    "}\n",
    "tokenizer.add_special_tokens(special_tokens_dict)\n",
    "\n",
    "device = 'cuda:0'\n",
    "model = GPT2LMHeadModel.from_pretrained(model_name).to(device)\n",
    "model.resize_token_embeddings(len(tokenizer))"
   ]
  },
  {
   "cell_type": "markdown",
   "id": "06652557",
   "metadata": {},
   "source": [
    "# evals"
   ]
  },
  {
   "cell_type": "code",
   "execution_count": null,
   "id": "134cead4",
   "metadata": {},
   "outputs": [],
   "source": [
    "%run -n main.py\n",
    "task_path = 'tasks/user_oriented_ru.jsonl'\n",
    "eval_path = 'evals/user_oriented_ru/openai_turbo.jsonl'"
   ]
  },
  {
   "cell_type": "code",
   "execution_count": null,
   "id": "6cbeeaac",
   "metadata": {},
   "outputs": [],
   "source": [
    "eval_records = list(load_eval(eval_path))\n",
    "cache_ids = {_.id for _ in eval_records}\n",
    "task_records = [\n",
    "    _ for _ in load_task(task_path)\n",
    "    if _.id not in cache_ids\n",
    "]\n",
    "print('eval:', len(eval_records))\n",
    "print('task:', len(task_records))"
   ]
  },
  {
   "cell_type": "code",
   "execution_count": null,
   "id": "aba9f9f2",
   "metadata": {},
   "outputs": [],
   "source": [
    "%run -n main.py\n",
    "for task_record in log_progress(task_records):\n",
    "    eval_record = eval_ru_openai(task_record, GPT_35_TURBO)\n",
    "\n",
    "    print(eval_record)\n",
    "    if eval_record:\n",
    "        eval_records.append(eval_record) "
   ]
  },
  {
   "cell_type": "code",
   "execution_count": null,
   "id": "20412d0a",
   "metadata": {},
   "outputs": [],
   "source": [
    "dump_eval(eval_path, eval_records)"
   ]
  },
  {
   "cell_type": "markdown",
   "id": "2727d70c",
   "metadata": {},
   "source": [
    "# annot"
   ]
  },
  {
   "cell_type": "code",
   "execution_count": 249,
   "id": "7c06fe56",
   "metadata": {},
   "outputs": [],
   "source": [
    "%run -n main.py\n",
    "a_name = 'chainyo_7b_alpaca_lora'\n",
    "b_name = 'gusev_7b_en_alpaca_lora'\n",
    "\n",
    "a_records = list(load_eval(f'evals/user_oriented_en/{a_name}.jsonl'))\n",
    "b_records = list(load_eval(f'evals/user_oriented_en/{b_name}.jsonl'))"
   ]
  },
  {
   "cell_type": "code",
   "execution_count": 251,
   "id": "68da034c",
   "metadata": {},
   "outputs": [],
   "source": [
    "%run -n main.py\n",
    "table = sbs_table(a_records, b_records)\n",
    "table.to_excel(f'sbs/user_oriented_en/{a_name}_{b_name}.xlsx', index=False)"
   ]
  },
  {
   "cell_type": "code",
   "execution_count": null,
   "id": "6c73026a",
   "metadata": {},
   "outputs": [],
   "source": []
  },
  {
   "cell_type": "code",
   "execution_count": null,
   "id": "a24c0f12",
   "metadata": {},
   "outputs": [],
   "source": []
  },
  {
   "cell_type": "code",
   "execution_count": 314,
   "id": "603bd999",
   "metadata": {},
   "outputs": [
    {
     "data": {
      "text/plain": [
       " 0    53\n",
       "-1    19\n",
       "-2     5\n",
       " 1     3\n",
       "Name: label, dtype: int64"
      ]
     },
     "execution_count": 314,
     "metadata": {},
     "output_type": "execute_result"
    }
   ],
   "source": [
    "table = pd.read_excel('sbs/vicuna_question_ru/openai_davinci_003_gusev_7b_ru_alpaca_lora.xlsx')\n",
    "view = table.label.dropna().sample(80).value_counts()\n",
    "# view = (view / view.sum() * 100).round()\n",
    "view"
   ]
  },
  {
   "cell_type": "code",
   "execution_count": 306,
   "id": "a51f229a",
   "metadata": {},
   "outputs": [],
   "source": [
    "!open sbs/user_oriented_en/openai_davinci_003_gusev_7b_en_alpaca_lora.xlsx"
   ]
  },
  {
   "cell_type": "markdown",
   "id": "2f6761ed",
   "metadata": {},
   "source": [
    "# report"
   ]
  },
  {
   "cell_type": "code",
   "execution_count": null,
   "id": "d1ddf8cf",
   "metadata": {},
   "outputs": [],
   "source": [
    "%matplotlib inline\n",
    "%config InlineBackend.figure_format='retina'"
   ]
  },
  {
   "cell_type": "code",
   "execution_count": null,
   "id": "94a58e8e",
   "metadata": {},
   "outputs": [],
   "source": [
    "from pathlib import Path\n",
    "\n",
    "names = [\n",
    "#     'openai_turbo',\n",
    "    'openai_davinci_002',\n",
    "    'gusev_7b_ru_alpaca_lora',\n",
    "#     'gusev_13b_ru_alpaca_lora',\n",
    "    'wortega_instruct_rugpt_large',\n",
    "]\n",
    "\n",
    "\n",
    "data = {}\n",
    "for name in names:\n",
    "    path = f'sbs/ru_vicuna_question/openai_davinci_003_{name}.xlsx'\n",
    "    table = pd.read_excel(path, dtype='str')\n",
    "    \n",
    "    label_counts = table.label.value_counts()\n",
    "    for label, count in label_counts.items():\n",
    "        data[name, label] = count\n",
    "        \n",
    "# data['openai_davinci_003', '0'] = 30\n",
    "\n",
    "table = pd.Series(data)\n",
    "table = table.unstack()\n",
    "table = table.fillna(0)\n",
    "\n",
    "\n",
    "table = table.reindex(\n",
    "    index=[\n",
    "        'wortega_instruct_rugpt_large',\n",
    "\n",
    "#         'gusev_13b_ru_alpaca_lora',\n",
    "        'openai_davinci_002',\n",
    "        'gusev_7b_ru_alpaca_lora',\n",
    "\n",
    "#         'openai_turbo',\n",
    "        \n",
    "    ],\n",
    "    columns=[\n",
    "        '2', '1', '0', '-1', '-2', '?',\n",
    "    ]\n",
    "    \n",
    ")\n",
    "table = table.rename(\n",
    "    columns = {\n",
    "        '?': 'пустой ответ',\n",
    "        '-2': 'хуже',\n",
    "        '-1': 'похуже',\n",
    "        '0': 'примерно одинаково',\n",
    "        '1': 'получше',\n",
    "        '2': 'лучше'\n",
    "    }\n",
    ")\n",
    "\n",
    "\n",
    "table.plot(\n",
    "    title='SbS с openai_davinci_003 на ru_vicuna_question',\n",
    "    kind='barh',\n",
    "    stacked=True,\n",
    "    width=0.9,\n",
    "    alpha=0.7,\n",
    "    xlabel='# заданий'\n",
    ").legend(\n",
    "    loc='upper left',\n",
    "    bbox_to_anchor=(1.0, 1.0)\n",
    ")"
   ]
  },
  {
   "cell_type": "code",
   "execution_count": null,
   "id": "72dd24e2",
   "metadata": {},
   "outputs": [],
   "source": [
    "!open sbs"
   ]
  },
  {
   "cell_type": "code",
   "execution_count": null,
   "id": "be7ca193",
   "metadata": {},
   "outputs": [],
   "source": []
  }
 ],
 "metadata": {
  "kernelspec": {
   "display_name": "rulm-sbs",
   "language": "python",
   "name": "rulm-sbs"
  },
  "language_info": {
   "codemirror_mode": {
    "name": "ipython",
    "version": 3
   },
   "file_extension": ".py",
   "mimetype": "text/x-python",
   "name": "python",
   "nbconvert_exporter": "python",
   "pygments_lexer": "ipython3",
   "version": "3.10.8"
  }
 },
 "nbformat": 4,
 "nbformat_minor": 5
}
