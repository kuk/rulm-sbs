{
 "cells": [
  {
   "cell_type": "code",
   "execution_count": null,
   "id": "d1f1cb89",
   "metadata": {},
   "outputs": [],
   "source": [
    "# %run -n main.py\n",
    "# lines = read_lines(DOTENV_PATH)\n",
    "# env = dict(parse_dotenv(lines))\n",
    "# openai.api_key = env['OPENAI_TOKEN']"
   ]
  },
  {
   "cell_type": "markdown",
   "id": "91801c88",
   "metadata": {},
   "source": [
    "# tasks"
   ]
  },
  {
   "cell_type": "code",
   "execution_count": 64,
   "id": "de9e413f",
   "metadata": {},
   "outputs": [],
   "source": [
    "%run -n main.py\n",
    "table = pd.read_csv('tasks/ru_user_oriented.csv')\n",
    "table = table[~table.done.isnull()]\n",
    "table = table.where(pd.notnull(table), None)\n",
    "table = table[['id', 'orig_instruction', 'instruction', 'orig_input', 'input']]\n",
    "items = table.to_dict(orient='records')\n",
    "\n",
    "lines = format_items(items)\n",
    "write_lines('tasks/ru_user_oriented.txt', lines)"
   ]
  },
  {
   "cell_type": "code",
   "execution_count": 52,
   "id": "d3eb9c3c",
   "metadata": {},
   "outputs": [],
   "source": [
    "%run -n main.py\n",
    "ru_user_oriented = list(load_task('tasks/ru_user_oriented.txt'))"
   ]
  },
  {
   "cell_type": "code",
   "execution_count": 59,
   "id": "4da2a44e",
   "metadata": {},
   "outputs": [],
   "source": [
    "# %run -n main.py\n",
    "# lines = read_lines('tasks/ru_vicuna_question.jsonl')\n",
    "# items = parse_jsonl(lines)\n",
    "\n",
    "# items = (\n",
    "#     {\n",
    "#         'id': str(_['id']),\n",
    "#         'category': _['category'],\n",
    "#         'orig_instruction': _['orig_text'],\n",
    "#         'instruction': _['text']\n",
    "#     }\n",
    "#     for _ in items\n",
    "# )\n",
    "\n",
    "# lines = format_items(items)\n",
    "# write_lines('tasks/ru_vicuna_question.txt', lines)"
   ]
  },
  {
   "cell_type": "code",
   "execution_count": null,
   "id": "6668f43d",
   "metadata": {},
   "outputs": [],
   "source": [
    "%run -n main.py\n",
    "ru_vicuna_question = list(load_task('tasks/ru_vicuna_question.txt'))"
   ]
  },
  {
   "cell_type": "markdown",
   "id": "6277a70a",
   "metadata": {},
   "source": [
    "# evals"
   ]
  },
  {
   "cell_type": "markdown",
   "id": "75304a05",
   "metadata": {},
   "source": [
    "## llama_7b_ru_turbo_alpaca_lora"
   ]
  },
  {
   "cell_type": "code",
   "execution_count": null,
   "id": "822527ef",
   "metadata": {
    "scrolled": false
   },
   "outputs": [],
   "source": [
    "# LLM.int8() requires Turing or Ampere GPUs.\n",
    "# WARNING: No libcudart.so found! Install CUDA or the cudatoolkit package (anaconda)!\n",
    "import os\n",
    "os.environ['LD_LIBRARY_PATH'] = '/usr/local/cuda-11.7/targets/x86_64-linux/lib'\n",
    "\n",
    "import torch\n",
    "from peft import PeftModel, PeftConfig\n",
    "from transformers import AutoModelForCausalLM, AutoTokenizer, GenerationConfig\n",
    "\n",
    "model_name = 'IlyaGusev/llama_7b_ru_turbo_alpaca_lora'\n",
    "\n",
    "config = PeftConfig.from_pretrained(model_name)\n",
    "model = AutoModelForCausalLM.from_pretrained(\n",
    "    config.base_model_name_or_path,\n",
    "    load_in_8bit=True,\n",
    "\n",
    "    # Overriding torch_dtype=None with `torch_dtype=torch.float16\n",
    "    torch_dtype=torch.float16,\n",
    "    \n",
    "    # A device map needs to be passed to run convert models into mixed-int8\n",
    "    device_map='auto'\n",
    ")\n",
    "tokenizer = AutoTokenizer.from_pretrained(model_name)\n",
    "model = PeftModel.from_pretrained(model, model_name)"
   ]
  },
  {
   "cell_type": "code",
   "execution_count": null,
   "id": "38c345f7",
   "metadata": {},
   "outputs": [],
   "source": [
    "%run -n main.py\n",
    "lines = read_lines('evals/ru_vicuna_question/gusev_7b_ru_alpaca_lora.jsonl')\n",
    "eval_items = list(parse_jsonl(lines))\n",
    "cache_ids = {_['id'] for _ in eval_items}"
   ]
  },
  {
   "cell_type": "code",
   "execution_count": null,
   "id": "027ccaaa",
   "metadata": {
    "scrolled": false
   },
   "outputs": [],
   "source": [
    "items = [\n",
    "    _ for _ in ru_vicuna_question_items\n",
    "    if _['id'] not in cache_ids\n",
    "]\n",
    "for item in log_progress(items):\n",
    "    prompt = vicuna_question_ru_alcapa_prompt(item)\n",
    "    output = ru_alpaca_complete(prompt, model, tokenizer)\n",
    "    item = {\n",
    "        'id': item['id'],\n",
    "        'prompt': prompt,\n",
    "        'output': output\n",
    "    }\n",
    "    eval_items.append(item)"
   ]
  },
  {
   "cell_type": "code",
   "execution_count": null,
   "id": "8f05c34c",
   "metadata": {},
   "outputs": [],
   "source": [
    "eval_items"
   ]
  },
  {
   "cell_type": "code",
   "execution_count": null,
   "id": "24650c8d",
   "metadata": {},
   "outputs": [],
   "source": [
    "%run -n main.py\n",
    "lines = format_jsonl(eval_items)\n",
    "write_lines('evals/ru_vicuna_question/gusev_7b_ru_alpaca_lora.jsonl', lines)"
   ]
  },
  {
   "cell_type": "markdown",
   "id": "558d3866",
   "metadata": {},
   "source": [
    "## llama_13b_ru_turbo_alpaca_lora"
   ]
  },
  {
   "cell_type": "code",
   "execution_count": null,
   "id": "fd03fbdd",
   "metadata": {},
   "outputs": [],
   "source": [
    "import os\n",
    "os.environ['LD_LIBRARY_PATH'] = '/usr/local/cuda-11.7/targets/x86_64-linux/lib'\n",
    "\n",
    "import torch\n",
    "from peft import PeftModel, PeftConfig\n",
    "from transformers import AutoModelForCausalLM, AutoTokenizer, GenerationConfig\n",
    "\n",
    "model_name = 'IlyaGusev/llama_13b_ru_turbo_alpaca_lora'\n",
    "\n",
    "config = PeftConfig.from_pretrained(model_name)\n",
    "model = AutoModelForCausalLM.from_pretrained(\n",
    "    config.base_model_name_or_path,\n",
    "    load_in_8bit=True,\n",
    "    torch_dtype=torch.float16,\n",
    "    device_map='auto'\n",
    ")\n",
    "tokenizer = AutoTokenizer.from_pretrained(model_name)\n",
    "model = PeftModel.from_pretrained(model, model_name)"
   ]
  },
  {
   "cell_type": "code",
   "execution_count": null,
   "id": "81c88507",
   "metadata": {},
   "outputs": [],
   "source": [
    "%run -n main.py\n",
    "lines = read_lines('evals/ru_vicuna_question/gusev_13b_ru_alpaca_lora.jsonl')\n",
    "eval_items = list(parse_jsonl(lines))\n",
    "cache_ids = {_['id'] for _ in eval_items}"
   ]
  },
  {
   "cell_type": "code",
   "execution_count": null,
   "id": "826eab6b",
   "metadata": {},
   "outputs": [],
   "source": [
    "items = [\n",
    "    _ for _ in ru_vicuna_question_items\n",
    "    if _['id'] not in cache_ids\n",
    "]\n",
    "for item in log_progress(items):\n",
    "    prompt = vicuna_question_ru_alcapa_prompt(item)\n",
    "    output = ru_alpaca_complete(prompt, model, tokenizer)\n",
    "    item = {\n",
    "        'id': item['id'],\n",
    "        'prompt': prompt,\n",
    "        'output': output\n",
    "    }\n",
    "    eval_items.append(item)"
   ]
  },
  {
   "cell_type": "code",
   "execution_count": null,
   "id": "198ad313",
   "metadata": {},
   "outputs": [],
   "source": [
    "%run -n main.py\n",
    "lines = format_jsonl(eval_items)\n",
    "write_lines('evals/ru_vicuna_question/gusev_13b_ru_alpaca_lora.jsonl', lines)"
   ]
  },
  {
   "cell_type": "markdown",
   "id": "eb55b23b",
   "metadata": {},
   "source": [
    "## instruct_rugptlarge"
   ]
  },
  {
   "cell_type": "code",
   "execution_count": null,
   "id": "039def6e",
   "metadata": {},
   "outputs": [],
   "source": [
    "from transformers import GPT2TokenizerFast, GPT2LMHeadModel\n",
    "\n",
    "model_name = 'AlexWortega/instruct_rugptlarge'\n",
    "\n",
    "tokenizer = GPT2TokenizerFast.from_pretrained(model_name)\n",
    "special_tokens_dict = {\n",
    "    'additional_special_tokens': [\n",
    "        '<code>', '</code>',\n",
    "        '<instructionS>', '<instructionE>',\n",
    "        '<next>'\n",
    "    ]\n",
    "}\n",
    "tokenizer.add_special_tokens(special_tokens_dict)"
   ]
  },
  {
   "cell_type": "code",
   "execution_count": null,
   "id": "ebe53336",
   "metadata": {},
   "outputs": [],
   "source": [
    "device = 'cuda:0'\n",
    "model = GPT2LMHeadModel.from_pretrained(model_name).to(device)\n",
    "model.resize_token_embeddings(len(tokenizer))"
   ]
  },
  {
   "cell_type": "code",
   "execution_count": null,
   "id": "0dd7dae1",
   "metadata": {},
   "outputs": [],
   "source": [
    "%run -n main.py\n",
    "lines = read_lines('evals/ru_vicuna_question/wortega_instruct_rugpt_large.jsonl')\n",
    "eval_items = list(parse_jsonl(lines))\n",
    "cache_ids = {_['id'] for _ in eval_items}"
   ]
  },
  {
   "cell_type": "code",
   "execution_count": null,
   "id": "9c1216ea",
   "metadata": {},
   "outputs": [],
   "source": [
    "items = [\n",
    "    _ for _ in ru_vicuna_question_items\n",
    "    if _['id'] not in cache_ids\n",
    "]\n",
    "for item in log_progress(items):\n",
    "    prompt = vicuna_question_prompt(item)\n",
    "    output = instruct_rugpt_complete(prompt, model, tokenizer)\n",
    "    item = {\n",
    "        'id': item['id'],\n",
    "        'prompt': prompt,\n",
    "        'output': output\n",
    "    }\n",
    "    eval_items.append(item)"
   ]
  },
  {
   "cell_type": "code",
   "execution_count": null,
   "id": "9052e01d",
   "metadata": {},
   "outputs": [],
   "source": [
    "%run -n main.py\n",
    "lines = format_jsonl(eval_items)\n",
    "write_lines('evals/ru_vicuna_question/wortega_instruct_rugpt_large.jsonl', lines)"
   ]
  },
  {
   "cell_type": "markdown",
   "id": "f3d6200c",
   "metadata": {},
   "source": [
    "## gpt-3.5-turbo"
   ]
  },
  {
   "cell_type": "code",
   "execution_count": null,
   "id": "d2dbf0b4",
   "metadata": {},
   "outputs": [],
   "source": [
    "lines = read_lines('evals/ru_vicuna_question/openai_turbo.jsonl')\n",
    "eval_items = list(parse_jsonl(lines))\n",
    "cache_ids = {_['id'] for _ in eval_items}"
   ]
  },
  {
   "cell_type": "code",
   "execution_count": null,
   "id": "b711c20a",
   "metadata": {},
   "outputs": [],
   "source": [
    "items = [\n",
    "    _ for _ in ru_vicuna_question_items\n",
    "    if _['id'] not in cache_ids\n",
    "]\n",
    "for item in log_progress(items):\n",
    "    prompt = vicuna_question_prompt(item)\n",
    "    output = openai_chat_complete(prompt, model='gpt-3.5-turbo')\n",
    "    item = {\n",
    "        'id': item['id'],\n",
    "        'prompt': prompt,\n",
    "        'output': output\n",
    "    }\n",
    "    eval_items.append(item)"
   ]
  },
  {
   "cell_type": "code",
   "execution_count": null,
   "id": "31b8635f",
   "metadata": {},
   "outputs": [],
   "source": [
    "%run -n main.py\n",
    "lines = format_jsonl(eval_items)\n",
    "write_lines('evals/ru_vicuna_question/openai_turbo.jsonl', lines)"
   ]
  },
  {
   "cell_type": "markdown",
   "id": "0dae752e",
   "metadata": {},
   "source": [
    "## text-davinci-003"
   ]
  },
  {
   "cell_type": "code",
   "execution_count": null,
   "id": "34739f6d",
   "metadata": {},
   "outputs": [],
   "source": [
    "lines = read_lines('evals/ru_vicuna_question/openai_davinci_003.jsonl')\n",
    "eval_items = list(parse_jsonl(lines))\n",
    "cache_ids = {_['id'] for _ in eval_items}"
   ]
  },
  {
   "cell_type": "code",
   "execution_count": null,
   "id": "8e8f6519",
   "metadata": {
    "scrolled": false
   },
   "outputs": [],
   "source": [
    "items = [\n",
    "    _ for _ in ru_vicuna_question_items\n",
    "    if _['id'] not in cache_ids\n",
    "]\n",
    "for item in log_progress(items):\n",
    "    prompt = vicuna_question_prompt(item)\n",
    "    output = openai_complete(prompt, model='text-davinci-003')\n",
    "    item = {\n",
    "        'id': item['id'],\n",
    "        'prompt': prompt,\n",
    "        'output': output\n",
    "    }\n",
    "    eval_items.append(item)"
   ]
  },
  {
   "cell_type": "code",
   "execution_count": null,
   "id": "3cb7e36b",
   "metadata": {},
   "outputs": [],
   "source": [
    "%run -n main.py\n",
    "lines = format_jsonl(eval_items)\n",
    "write_lines('evals/ru_vicuna_question/openai_davinci_003.jsonl', lines)"
   ]
  },
  {
   "cell_type": "markdown",
   "id": "cb3d1883",
   "metadata": {},
   "source": [
    "## text-davinci-002"
   ]
  },
  {
   "cell_type": "code",
   "execution_count": null,
   "id": "9890c62f",
   "metadata": {},
   "outputs": [],
   "source": [
    "lines = read_lines('evals/ru_vicuna_question/openai_davinci_002.jsonl')\n",
    "eval_items = list(parse_jsonl(lines))\n",
    "cache_ids = {_['id'] for _ in eval_items}"
   ]
  },
  {
   "cell_type": "code",
   "execution_count": null,
   "id": "e139cc42",
   "metadata": {},
   "outputs": [],
   "source": [
    "items = [\n",
    "    _ for _ in ru_vicuna_question_items\n",
    "    if _['id'] not in cache_ids\n",
    "]\n",
    "for item in log_progress(items):\n",
    "    prompt = vicuna_question_prompt(item)\n",
    "    output = openai_complete(prompt, model='text-davinci-002')\n",
    "    item = {\n",
    "        'id': item['id'],\n",
    "        'prompt': prompt,\n",
    "        'output': output\n",
    "    }\n",
    "    eval_items.append(item)"
   ]
  },
  {
   "cell_type": "code",
   "execution_count": null,
   "id": "83b28fc8",
   "metadata": {},
   "outputs": [],
   "source": [
    "%run -n main.py\n",
    "lines = format_jsonl(eval_items)\n",
    "write_lines('evals/ru_vicuna_question/openai_davinci_002.jsonl', lines)"
   ]
  },
  {
   "cell_type": "markdown",
   "id": "2727d70c",
   "metadata": {},
   "source": [
    "# annot"
   ]
  },
  {
   "cell_type": "code",
   "execution_count": null,
   "id": "8c637cab",
   "metadata": {},
   "outputs": [],
   "source": [
    "!ls evals/ru_vicuna_question"
   ]
  },
  {
   "cell_type": "code",
   "execution_count": null,
   "id": "7c06fe56",
   "metadata": {},
   "outputs": [],
   "source": [
    "%run -n main.py\n",
    "a_name = 'gusev_7b_ru_alpaca_lora'\n",
    "b_name = 'gusev_13b_ru_alpaca_lora'\n",
    "\n",
    "lines = read_lines(f'evals/ru_vicuna_question/{a_name}.jsonl')\n",
    "a_items = list(parse_jsonl(lines))\n",
    "\n",
    "lines = read_lines(f'evals/ru_vicuna_question/{b_name}.jsonl')\n",
    "b_items = list(parse_jsonl(lines))"
   ]
  },
  {
   "cell_type": "code",
   "execution_count": null,
   "id": "7906f586",
   "metadata": {},
   "outputs": [],
   "source": [
    "import pandas as pd\n",
    "\n",
    "id_a_items = {_['id']: _ for _ in a_items}\n",
    "id_b_items = {_['id']: _ for _ in b_items}\n",
    "items = []\n",
    "for id in sorted(id_a_items.keys() & id_b_items.keys()):\n",
    "    a_item = id_a_items[id]\n",
    "    b_item = id_b_items[id]\n",
    "\n",
    "    items.append({\n",
    "        'id': id,\n",
    "        'prompt': b_item['prompt'],\n",
    "        'a': a_item['output'],\n",
    "        'b': b_item['output'],\n",
    "        'label': None\n",
    "    })\n",
    "\n",
    "table = pd.DataFrame(items)\n",
    "table.to_excel(f'sbs/ru_vicuna_question/{a_name}_{b_name}.xlsx', index=False)"
   ]
  },
  {
   "cell_type": "code",
   "execution_count": null,
   "id": "c755f97b",
   "metadata": {},
   "outputs": [],
   "source": [
    "!open sbs"
   ]
  },
  {
   "cell_type": "markdown",
   "id": "2f6761ed",
   "metadata": {},
   "source": [
    "# report"
   ]
  },
  {
   "cell_type": "code",
   "execution_count": null,
   "id": "d1ddf8cf",
   "metadata": {},
   "outputs": [],
   "source": [
    "%matplotlib inline\n",
    "%config InlineBackend.figure_format='retina'"
   ]
  },
  {
   "cell_type": "code",
   "execution_count": 181,
   "id": "94a58e8e",
   "metadata": {},
   "outputs": [
    {
     "data": {
      "text/plain": [
       "<matplotlib.legend.Legend at 0x1601c5a50>"
      ]
     },
     "execution_count": 181,
     "metadata": {},
     "output_type": "execute_result"
    },
    {
     "data": {
      "image/png": "[encoded data removed]",
      "text/plain": [
       "<Figure size 640x480 with 1 Axes>"
      ]
     },
     "metadata": {
      "image/png": {
       "height": 454,
       "width": 940
      }
     },
     "output_type": "display_data"
    }
   ],
   "source": [
    "from pathlib import Path\n",
    "\n",
    "names = [\n",
    "#     'openai_turbo',\n",
    "    'openai_davinci_002',\n",
    "    'gusev_7b_ru_alpaca_lora',\n",
    "#     'gusev_13b_ru_alpaca_lora',\n",
    "    'wortega_instruct_rugpt_large',\n",
    "]\n",
    "\n",
    "\n",
    "data = {}\n",
    "for name in names:\n",
    "    path = f'sbs/ru_vicuna_question/openai_davinci_003_{name}.xlsx'\n",
    "    table = pd.read_excel(path, dtype='str')\n",
    "    \n",
    "    label_counts = table.label.value_counts()\n",
    "    for label, count in label_counts.items():\n",
    "        data[name, label] = count\n",
    "        \n",
    "# data['openai_davinci_003', '0'] = 30\n",
    "\n",
    "table = pd.Series(data)\n",
    "table = table.unstack()\n",
    "table = table.fillna(0)\n",
    "\n",
    "\n",
    "table = table.reindex(\n",
    "    index=[\n",
    "        'wortega_instruct_rugpt_large',\n",
    "\n",
    "#         'gusev_13b_ru_alpaca_lora',\n",
    "        'openai_davinci_002',\n",
    "        'gusev_7b_ru_alpaca_lora',\n",
    "\n",
    "#         'openai_turbo',\n",
    "        \n",
    "    ],\n",
    "    columns=[\n",
    "        '2', '1', '0', '-1', '-2', '?',\n",
    "    ]\n",
    "    \n",
    ")\n",
    "table = table.rename(\n",
    "    columns = {\n",
    "        '?': 'пустой ответ',\n",
    "        '-2': 'хуже',\n",
    "        '-1': 'похуже',\n",
    "        '0': 'примерно одинаково',\n",
    "        '1': 'получше',\n",
    "        '2': 'лучше'\n",
    "    }\n",
    ")\n",
    "\n",
    "\n",
    "table.plot(\n",
    "    title='SbS с openai_davinci_003 на ru_vicuna_question',\n",
    "    kind='barh',\n",
    "    stacked=True,\n",
    "    width=0.9,\n",
    "    alpha=0.7,\n",
    "    xlabel='# заданий'\n",
    ").legend(\n",
    "    loc='upper left',\n",
    "    bbox_to_anchor=(1.0, 1.0)\n",
    ")"
   ]
  },
  {
   "cell_type": "code",
   "execution_count": null,
   "id": "72dd24e2",
   "metadata": {},
   "outputs": [],
   "source": [
    "!open sbs"
   ]
  },
  {
   "cell_type": "code",
   "execution_count": null,
   "id": "be7ca193",
   "metadata": {},
   "outputs": [],
   "source": []
  }
 ],
 "metadata": {
  "kernelspec": {
   "display_name": "Python 3 (ipykernel)",
   "language": "python",
   "name": "python3"
  },
  "language_info": {
   "codemirror_mode": {
    "name": "ipython",
    "version": 3
   },
   "file_extension": ".py",
   "mimetype": "text/x-python",
   "name": "python",
   "nbconvert_exporter": "python",
   "pygments_lexer": "ipython3",
   "version": "3.10.10"
  }
 },
 "nbformat": 4,
 "nbformat_minor": 5
}
